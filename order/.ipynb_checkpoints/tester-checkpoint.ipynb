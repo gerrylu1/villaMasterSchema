{
 "cells": [
  {
   "cell_type": "code",
   "execution_count": 1,
   "id": "violent-neutral",
   "metadata": {},
   "outputs": [],
   "source": [
    "import jsonschema, yaml, json, unittest\n",
    "from jsonschema.exceptions import ValidationError\n",
    "from nicHelper.wrappers import add_method"
   ]
  },
  {
   "cell_type": "markdown",
   "id": "blocked-choice",
   "metadata": {},
   "source": [
    "# Unit test for schema"
   ]
  },
  {
   "cell_type": "markdown",
   "id": "unexpected-nutrition",
   "metadata": {},
   "source": [
    "## define test data folder"
   ]
  },
  {
   "cell_type": "code",
   "execution_count": 2,
   "id": "cognitive-stockholm",
   "metadata": {},
   "outputs": [],
   "source": [
    "dataFolder = 'testData' # data folder"
   ]
  },
  {
   "cell_type": "markdown",
   "id": "covered-foundation",
   "metadata": {},
   "source": [
    "## load schema"
   ]
  },
  {
   "cell_type": "code",
   "execution_count": 3,
   "id": "cleared-collector",
   "metadata": {},
   "outputs": [],
   "source": [
    "with open(f'./order.yaml', 'r')as f: # load the schema\n",
    "    schema = yaml.load(f.read(), Loader=yaml.FullLoader)"
   ]
  },
  {
   "cell_type": "markdown",
   "id": "desperate-possession",
   "metadata": {},
   "source": [
    "## create unit test object"
   ]
  },
  {
   "cell_type": "code",
   "execution_count": 4,
   "id": "coated-david",
   "metadata": {},
   "outputs": [],
   "source": [
    "class TestValidation(unittest.TestCase):\n",
    "    def setUp(self):\n",
    "        with open(f'./order.yaml', 'r')as f: # load the schema\n",
    "            self.schema = yaml.load(f.read(), Loader=yaml.FullLoader)\n",
    "        self.dataFolder = 'testData' # data folder"
   ]
  },
  {
   "cell_type": "markdown",
   "id": "hybrid-genetics",
   "metadata": {},
   "source": [
    "### good sample case"
   ]
  },
  {
   "cell_type": "code",
   "execution_count": 5,
   "id": "ordinary-brazilian",
   "metadata": {},
   "outputs": [],
   "source": [
    "@add_method(TestValidation)\n",
    "def testPassingGoodSample(self):\n",
    "    # good sample\n",
    "    with open(f'./{self.dataFolder}/goodSample.json','r')as f:\n",
    "        goodItem = json.load(f)\n",
    "    \n",
    "    try:\n",
    "        jsonschema.validate(goodItem,self.schema)\n",
    "    except ValidationError as e:\n",
    "        print(e)"
   ]
  },
  {
   "cell_type": "markdown",
   "id": "generic-remains",
   "metadata": {},
   "source": [
    "### bad case"
   ]
  },
  {
   "cell_type": "markdown",
   "id": "diagnostic-cedar",
   "metadata": {},
   "source": [
    "#### wrong type"
   ]
  },
  {
   "cell_type": "code",
   "execution_count": 6,
   "id": "equal-ridge",
   "metadata": {},
   "outputs": [],
   "source": [
    "@add_method(TestValidation)\n",
    "def testWrongType(self):\n",
    "    with open(f'./{self.dataFolder}/wrongType.json','r')as f:\n",
    "        badItem = json.load(f)\n",
    "    with self.assertRaises(ValidationError):\n",
    "        jsonschema.validate(badItem,self.schema)\n",
    "    try:\n",
    "        jsonschema.validate(badItem,self.schema)\n",
    "    except ValidationError as e:\n",
    "        self.assertTrue(\"1234 is not of type 'string'\" in e.message, \n",
    "                        f'wrong error message{e.message}, should be 1234 is not type string')"
   ]
  },
  {
   "cell_type": "markdown",
   "id": "caroline-niger",
   "metadata": {},
   "source": [
    "#### extraneous column"
   ]
  },
  {
   "cell_type": "code",
   "execution_count": 7,
   "id": "threaded-reunion",
   "metadata": {},
   "outputs": [],
   "source": [
    "@add_method(TestValidation)\n",
    "def testExtraColumn(self):\n",
    "    with open(f'./{self.dataFolder}/extraCol.json','r')as f:\n",
    "        badItem = json.load(f)\n",
    "    with self.assertRaises(ValidationError):\n",
    "        jsonschema.validate(badItem,self.schema)\n",
    "    try:\n",
    "        jsonschema.validate(badItem,self.schema)\n",
    "    except ValidationError as e:\n",
    "        self.assertTrue('Additional properties are not allowed' in e.message)"
   ]
  },
  {
   "cell_type": "code",
   "execution_count": 8,
   "id": "british-support",
   "metadata": {},
   "outputs": [
    {
     "name": "stderr",
     "output_type": "stream",
     "text": [
      "...\n",
      "----------------------------------------------------------------------\n",
      "Ran 3 tests in 0.027s\n",
      "\n",
      "OK\n"
     ]
    },
    {
     "data": {
      "text/plain": [
       "<unittest.runner.TextTestResult run=3 errors=0 failures=0>"
      ]
     },
     "execution_count": 8,
     "metadata": {},
     "output_type": "execute_result"
    }
   ],
   "source": [
    "suite = unittest.defaultTestLoader.loadTestsFromTestCase(TestValidation)\n",
    "unittest.TextTestRunner().run(suite)"
   ]
  },
  {
   "cell_type": "code",
   "execution_count": 12,
   "id": "contained-listing",
   "metadata": {},
   "outputs": [
    {
     "name": "stdout",
     "output_type": "stream",
     "text": [
      "[NbConvertApp] Converting notebook tester.ipynb to script\n",
      "[NbConvertApp] Writing 2281 bytes to tester.py\n"
     ]
    }
   ],
   "source": [
    "try:\n",
    "    !jupyter nbconvert --to script tester.ipynb\n",
    "except:\n",
    "    pass"
   ]
  },
  {
   "cell_type": "code",
   "execution_count": null,
   "id": "entire-belle",
   "metadata": {},
   "outputs": [],
   "source": []
  }
 ],
 "metadata": {
  "kernelspec": {
   "display_name": "Python 3",
   "language": "python",
   "name": "python3"
  },
  "language_info": {
   "codemirror_mode": {
    "name": "ipython",
    "version": 3
   },
   "file_extension": ".py",
   "mimetype": "text/x-python",
   "name": "python",
   "nbconvert_exporter": "python",
   "pygments_lexer": "ipython3",
   "version": "3.9.1"
  }
 },
 "nbformat": 4,
 "nbformat_minor": 5
}
