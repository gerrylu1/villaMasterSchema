{
 "cells": [
  {
   "cell_type": "markdown",
   "metadata": {
    "colab_type": "text",
    "id": "view-in-github"
   },
   "source": [
    "<a href=\"https://colab.research.google.com/github/thanakijwanavit/villaMasterSchema/blob/master/testYamlSchema.ipynb\" target=\"_parent\"><img src=\"https://colab.research.google.com/assets/colab-badge.svg\" alt=\"Open In Colab\"/></a>"
   ]
  },
  {
   "cell_type": "code",
   "execution_count": 7,
   "metadata": {
    "id": "kKfRBDJxnnxR"
   },
   "outputs": [],
   "source": [
    "!pip install -q nicHelper\n",
    "!pip install -q -U PyYAML"
   ]
  },
  {
   "cell_type": "code",
   "execution_count": 8,
   "metadata": {
    "id": "T4pImWYmnrXH"
   },
   "outputs": [],
   "source": [
    "import yaml, json\n",
    "from nicHelper.schema import validateUrl"
   ]
  },
  {
   "cell_type": "code",
   "execution_count": null,
   "metadata": {
    "id": "r74bG6z3nt4y"
   },
   "outputs": [],
   "source": [
    "# response\n",
    "branch='master'\n",
    "url = f'https://raw.githubusercontent.com/thanakijwanavit/villaMasterSchema/{branch}/images/fileNames.yaml'\n",
    "exampleData = {\n",
    "    'products': [\n",
    "      {'iprcode': 123,\n",
    "      'fileNames' : ['dsajflkjadsflkj', 'ksaldjflajkfl']\n",
    "      }\n",
    "    ]\n",
    "}\n",
    "from nicHelper.schema import validateUrl\n",
    "validateUrl(url, input_=exampleData, format_ = 'yaml')"
   ]
  },
  {
   "cell_type": "code",
   "execution_count": null,
   "metadata": {
    "id": "uHXgp3zSn2cc"
   },
   "outputs": [],
   "source": [
    "from nicHelper.dictUtil import genSchema\n",
    "print(genSchema(exampleData, format_='yaml'))"
   ]
  },
  {
   "cell_type": "code",
   "execution_count": null,
   "metadata": {
    "id": "O9ja4xPcoyBX"
   },
   "outputs": [],
   "source": [
    "branch='master'\n",
    "url = f'https://raw.githubusercontent.com/thanakijwanavit/villaMasterSchema/{branch}/images/fileNames.yaml'\n",
    "exampleData = {\n",
    "    'iprcode': 12332425,\n",
    "    'cprcode': 12321342134,\n",
    "    # 'djsflkdsjflk': 'kfadjslkfjlk',\n",
    "    '123':'123'\n",
    "}\n",
    "from nicHelper.dictUtil import genSchema\n",
    "print(genSchema(exampleData, format_='yaml'))"
   ]
  },
  {
   "cell_type": "code",
   "execution_count": null,
   "metadata": {
    "id": "W2D2DHzVuyBQ"
   },
   "outputs": [],
   "source": [
    "url = \"https://raw.githubusercontent.com/thanakijwanavit/villaMasterSchema/products/product/product.yaml\"\n",
    "validateUrl(url, input_=exampleData, format_='yaml')"
   ]
  },
  {
   "cell_type": "markdown",
   "metadata": {
    "id": "OkBtGnK_xJ9s"
   },
   "source": [
    "## Validate json example stored in GitHub"
   ]
  },
  {
   "cell_type": "code",
   "execution_count": 10,
   "metadata": {},
   "outputs": [
    {
     "data": {
      "text/plain": [
       "namespace(ba_nprice=35.0, content_en='0036679 0036679 La Bakery Cookies (s) 100gm Bakery 0036679-20366797       Bakery', content_th='แอลเอ คุกกี้ถุงเล็ก 100 ก.  เบเกอรี่ LA COOKIES SMALL100G แอลเอคุกกี้ถุงเล็ก100ก.', cprcode=36679, hema_brand_en='', hema_brand_th='', hema_name_en='La Bakery Cookies (s) 100gm', hema_name_th='แอลเอ คุกกี้ถุงเล็ก 100 ก.', hema_sizedesc='', iprcode=36679, master_online='Y', online_category_l1_en='Bakery', online_category_l1_th='อาหารสด', online_category_l2_en='Cakes & Pastries', online_category_l2_th='เบเกอรี่ และ แสน็ค', online_category_l3_en='', online_category_l3_th='', oprcode=36679, ordertype='Y', pr_abb='LA COOKIES SMALL100G', pr_active='Y', pr_barcode=20366797, pr_barcode2=2036679, pr_brand_en='L.A. Bakery', pr_brand_th='L.A. Bakery', pr_cgcode='01', pr_code='0036679', pr_country_en='', pr_country_th='', pr_dpcode='18', pr_engname='LA COOKIES BAG SMALL 100 G.', pr_filter_en='Bakery  Snacks,Fresh', pr_filter_th='Bakery  Snacks,Fresh', pr_ggcode='006', pr_keyword_en='Bakery', pr_keyword_th='เบเกอรี่', pr_market='แอลเอคุกกี้ถุงเล็ก100ก.', pr_name='แอลเอ คุกกี้ถุงเล็ก 100 ก.', pr_name_en='LA COOKIES BAG SMALL 100 G.', pr_name_th='แอลเอ คุกกี้ถุงเล็ก 100 ก.', pr_online_name_en='La Bakery Cookies (s) 100gm', pr_online_name_th='แอลเอ คุกกี้ถุงเล็ก 100 ก.', pr_puqty='1.00', pr_sa_method='1', pr_sucode1='F106', pr_suref3='A', prtype='I', psqty='1', pstype='1', salemode_unit='ITEM', sort_villa_sku=0, sort_weight='0', villa_category_l1_en='Fresh', villa_category_l2_en='Fresh Produce', villa_category_l3_en='Bakery', villa_category_l4_en='Cookie and confectionery')"
      ]
     },
     "execution_count": 10,
     "metadata": {},
     "output_type": "execute_result"
    }
   ],
   "source": [
    "from urllib.request import urlopen\n",
    "\n",
    "branch='productmaster'\n",
    "jsonLink = f'https://raw.githubusercontent.com/thanakijwanavit/villaMasterSchema/{branch}/productmaster/example.json'\n",
    "f = urlopen(jsonLink)\n",
    "exampleDataString = f.read().decode().replace(\"'\", '\"') # in case json file uses singles quotes\n",
    "exampleData = json.loads(exampleDataString)\n",
    "\n",
    "url = f'https://raw.githubusercontent.com/thanakijwanavit/villaMasterSchema/{branch}/productmaster/productmaster.yaml'\n",
    "validateUrl(url, input_=exampleData, format_ = 'yaml')"
   ]
  },
  {
   "cell_type": "code",
   "execution_count": null,
   "metadata": {},
   "outputs": [],
   "source": [
    "\n"
   ]
  }
 ],
 "metadata": {
  "colab": {
   "include_colab_link": true,
   "name": "testYamlSchema",
   "private_outputs": true,
   "provenance": []
  },
  "kernelspec": {
   "display_name": "conda_python38",
   "language": "python",
   "name": "conda_python38"
  },
  "language_info": {
   "codemirror_mode": {
    "name": "ipython",
    "version": 3
   },
   "file_extension": ".py",
   "mimetype": "text/x-python",
   "name": "python",
   "nbconvert_exporter": "python",
   "pygments_lexer": "ipython3",
   "version": "3.8.6"
  }
 },
 "nbformat": 4,
 "nbformat_minor": 4
}
