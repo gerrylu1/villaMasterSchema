{
  "nbformat": 4,
  "nbformat_minor": 0,
  "metadata": {
    "colab": {
      "name": "testYamlSchema",
      "private_outputs": true,
      "provenance": [],
      "include_colab_link": true
    },
    "kernelspec": {
      "name": "python3",
      "display_name": "Python 3"
    }
  },
  "cells": [
    {
      "cell_type": "markdown",
      "metadata": {
        "id": "view-in-github",
        "colab_type": "text"
      },
      "source": [
        "<a href=\"https://colab.research.google.com/github/thanakijwanavit/villaMasterSchema/blob/master/testYamlSchema.ipynb\" target=\"_parent\"><img src=\"https://colab.research.google.com/assets/colab-badge.svg\" alt=\"Open In Colab\"/></a>"
      ]
    },
    {
      "cell_type": "code",
      "metadata": {
        "id": "kKfRBDJxnnxR"
      },
      "source": [
        "!pip install -q nicHelper\n",
        "!pip install -q -U PyYAML"
      ],
      "execution_count": null,
      "outputs": []
    },
    {
      "cell_type": "code",
      "metadata": {
        "id": "T4pImWYmnrXH"
      },
      "source": [
        "import yaml, json\n",
        "from nicHelper.schema import validateUrl"
      ],
      "execution_count": null,
      "outputs": []
    },
    {
      "cell_type": "code",
      "metadata": {
        "id": "r74bG6z3nt4y"
      },
      "source": [
        "# response\n",
        "branch='master'\n",
        "url = f'https://raw.githubusercontent.com/thanakijwanavit/villaMasterSchema/{branch}/images/fileNames.yaml'\n",
        "exampleData = {\n",
        "    'products': [\n",
        "      {'iprcode': 123,\n",
        "      'fileNames' : ['dsajflkjadsflkj', 'ksaldjflajkfl']\n",
        "      }\n",
        "    ]\n",
        "}\n",
        "from nicHelper.schema import validateUrl\n",
        "validateUrl(url, input_=exampleData, format_ = 'yaml')"
      ],
      "execution_count": null,
      "outputs": []
    },
    {
      "cell_type": "code",
      "metadata": {
        "id": "uHXgp3zSn2cc"
      },
      "source": [
        "from nicHelper.dictUtil import genSchema\n",
        "print(genSchema(exampleData, format_='yaml'))"
      ],
      "execution_count": null,
      "outputs": []
    },
    {
      "cell_type": "code",
      "metadata": {
        "id": "O9ja4xPcoyBX"
      },
      "source": [
        "branch='master'\n",
        "url = f'https://raw.githubusercontent.com/thanakijwanavit/villaMasterSchema/{branch}/images/fileNames.yaml'\n",
        "exampleData = {\n",
        "    'iprcode': 12332425,\n",
        "    'cprcode': 12321342134,\n",
        "    # 'djsflkdsjflk': 'kfadjslkfjlk',\n",
        "    '123':'123'\n",
        "}\n",
        "from nicHelper.dictUtil import genSchema\n",
        "print(genSchema(exampleData, format_='yaml'))"
      ],
      "execution_count": null,
      "outputs": []
    },
    {
      "cell_type": "code",
      "metadata": {
        "id": "W2D2DHzVuyBQ"
      },
      "source": [
        "url = \"https://raw.githubusercontent.com/thanakijwanavit/villaMasterSchema/products/product/product.yaml\"\n",
        "validateUrl(url, input_=exampleData, format_='yaml')"
      ],
      "execution_count": null,
      "outputs": []
    },
    {
      "cell_type": "code",
      "metadata": {
        "id": "OkBtGnK_xJ9s"
      },
      "source": [
        ""
      ],
      "execution_count": null,
      "outputs": []
    }
  ]
}